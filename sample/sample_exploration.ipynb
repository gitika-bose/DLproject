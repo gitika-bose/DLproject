{
 "cells": [
  {
   "cell_type": "code",
   "execution_count": 2,
   "metadata": {},
   "outputs": [],
   "source": [
    "from docx import Document"
   ]
  },
  {
   "cell_type": "code",
   "execution_count": 44,
   "metadata": {},
   "outputs": [],
   "source": [
    "color_mapping = {16: 'gray', 4: 'green', 6: 'red'}"
   ]
  },
  {
   "cell_type": "code",
   "execution_count": 3,
   "metadata": {},
   "outputs": [],
   "source": [
    "files = ['event1.docx', 'event2.docx', 'event3.docx', 'event4.docx', 'event5.docx']\n",
    "file = files[0]"
   ]
  },
  {
   "cell_type": "code",
   "execution_count": 4,
   "metadata": {},
   "outputs": [],
   "source": [
    "document = Document(file)"
   ]
  },
  {
   "cell_type": "code",
   "execution_count": 7,
   "metadata": {},
   "outputs": [],
   "source": [
    "paras = [{'text':t.text} for t in document.paragraphs]"
   ]
  },
  {
   "cell_type": "code",
   "execution_count": 51,
   "metadata": {},
   "outputs": [
    {
     "name": "stdout",
     "output_type": "stream",
     "text": [
      "gray : ['OK. ', 'And, um, she is just totally awesome,', 'I can’t pick up.']\n",
      "green : ['In the next week,', 'I will see my cat', ' at my house', 'in [TOWN],', 'Massachusetts.', 'She will meet me', 'at the top of the stairs', 'and she jumps up', ' and lets me pat her.', 'so I’ll say, “Cookies, cookies!”', 'She looks at me', 'and goes right to her little scratch pad', 'where I will put her cookies down.', 'She eats them', 'and then she, if I am lying on the couch, or if I got on the couch,', 'she’ll keep going back and forth.', 'She’ll want me to get the blanket', 'just so so she can lie down in my, my crook of my hip.', 'She will just lie there all night', 'because she’s so content.', 'I can pat her all night', 'but I won’t pick her up.']\n",
      "red : ['My cat’s name is Angel Baby', ' and I found her in the tunnel.', 'She is white', 'and calico on the top', 'and everyone always says that it looks like she has bangs ', ' because she’s got a black', 'head  from her eyes up.', 'She’s so awesome', 'so I know when I come home, she knows when I come home.', 'Then, she usually wants cookies', 'That’s the one thing that I can’t do ', ' because I only do that when she’s going to the vet. Um… (5s)']\n"
     ]
    }
   ],
   "source": [
    "curr_color, curr_text = '', ''\n",
    "details = {v:[] for k,v in color_mapping.items()}\n",
    "for run in document.paragraphs[0].runs:\n",
    "    high, text = run.font.highlight_color, run.text\n",
    "    if high==None:\n",
    "        if curr_text: details[color_mapping[curr_color]].append(curr_text)\n",
    "        curr_color, curr_text = '', ''\n",
    "    else:\n",
    "        if high==curr_color: curr_text += text\n",
    "        else:\n",
    "            if curr_text: print(curr_color, curr_text)\n",
    "            curr_color, curr_text = high, text\n",
    "for k,v in details.items(): print(k,':',v)"
   ]
  },
  {
   "cell_type": "code",
   "execution_count": 28,
   "metadata": {},
   "outputs": [
    {
     "data": {
      "text/plain": [
       "'R: OK.  [NR] │ In the next week, [T] │ I will see my cat [E] │  at my house [PL] │in [TOWN], [PL] │ Massachusetts. [PL] │ My cat’s name is Angel Baby │  and I found her in the tunnel. │ She is white │ and calico on the top │ and everyone always says that it looks like she has bangs  │ because she’s got a black │ head  from her eyes up. │ She’s so awesome │ so I know when I come home, she knows when I come home. │ She will meet me [E] │ at the top of the stairs [PL] │and she jumps up [E] │  and lets me pat her. [E] │ Then, she usually wants cookies │ so I’ll say, “Cookies, cookies!” [E] │ She looks at me [E] │ and goes right to her little scratch pad [PL] │  where I will put her cookies down. [E] │ She eats them [E] │ and then she, if I am lying on the couch, or if I got on the couch,  [E] │ she’ll keep going back and forth. [E] │ She’ll want me to get the blanket [E] │ just so so she can lie down in my, my crook of my hip. [E] │ She will just lie there all night [E] │ because she’s so content. [E] │ I can pat her all night. [E]  │ And, um, she is just totally awesome, [R] │ but I won’t pick her up. [E] │ I can’t pick up. [R] │ That’s the one thing that I can’t do  │  because I only do that when she’s going to the vet. Um… (5s) │'"
      ]
     },
     "execution_count": 28,
     "metadata": {},
     "output_type": "execute_result"
    }
   ],
   "source": [
    "document.paragraphs[0].text"
   ]
  },
  {
   "cell_type": "code",
   "execution_count": null,
   "metadata": {},
   "outputs": [],
   "source": []
  }
 ],
 "metadata": {
  "kernelspec": {
   "display_name": "dlproject",
   "language": "python",
   "name": "dlproject"
  },
  "language_info": {
   "codemirror_mode": {
    "name": "ipython",
    "version": 3
   },
   "file_extension": ".py",
   "mimetype": "text/x-python",
   "name": "python",
   "nbconvert_exporter": "python",
   "pygments_lexer": "ipython3",
   "version": "3.7.2"
  }
 },
 "nbformat": 4,
 "nbformat_minor": 2
}
